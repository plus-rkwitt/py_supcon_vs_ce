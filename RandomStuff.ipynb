{
 "cells": [
  {
   "cell_type": "code",
   "execution_count": 1,
   "metadata": {},
   "outputs": [],
   "source": [
    "import numpy as np\n",
    "import matplotlib.pyplot as plt\n",
    "import torch\n",
    "\n",
    "import core.experiment as exp\n",
    "\n",
    "\n",
    "\n",
    "%load_ext autoreload\n",
    "%autoreload 2"
   ]
  },
  {
   "cell_type": "code",
   "execution_count": 11,
   "metadata": {},
   "outputs": [
    {
     "data": {
      "text/plain": [
       "[<matplotlib.lines.Line2D at 0x7f1b4116ae48>]"
      ]
     },
     "execution_count": 11,
     "metadata": {},
     "output_type": "execute_result"
    },
    {
     "data": {
      "image/png": "[encoded data removed]",
      "text/plain": [
       "<Figure size 432x288 with 1 Axes>"
      ]
     },
     "metadata": {
      "needs_background": "light"
     },
     "output_type": "display_data"
    }
   ],
   "source": [
    "Y = np.concatenate((np.linspace(0, 1, 100), 1-np.linspace(0, 1, 100)), axis=0)\n",
    "YY = np.power(Y, 2)\n",
    "\n",
    "plt.plot(YY)"
   ]
  },
  {
   "cell_type": "code",
   "execution_count": 31,
   "metadata": {},
   "outputs": [],
   "source": [
    "z = torch.Tensor([\n",
    "                     [0.1, 0.1],    #-> group / class 1\n",
    "                     [0.2, 0.2],    #-> group / class 2\n",
    "                     [0.4, 0.4],    #-> group / class 2\n",
    "                     [0.0, 0.0]     #-> group / class 0\n",
    "              ])\n",
    "\n",
    "labels = torch.LongTensor([1, 3, 3, 0])\n",
    "# labels = labels.unsqueeze(1).expand(-1, z.size(1))\n",
    "# print(labels)\n",
    "\n",
    "# unique_labels, labels_count = labels.unique(dim=0, return_counts=True)\n",
    "# print(unique_labels, labels_count)\n",
    "\n",
    "# res = torch.zeros_like(unique_labels, dtype=torch.float).scatter_add_(0, labels, samples)\n",
    "# res = res / labels_count.float().unsqueeze(1)\n"
   ]
  },
  {
   "cell_type": "code",
   "execution_count": 27,
   "metadata": {},
   "outputs": [],
   "source": [
    "labels = torch.LongTensor([1, 3, 3, 0])\n",
    "unique_labels, I = labels.unique(return_inverse=True)"
   ]
  },
  {
   "cell_type": "code",
   "execution_count": null,
   "metadata": {},
   "outputs": [],
   "source": [
    "class SphericalLinear(torch.nn.Module):\n",
    "    def __init__(self, input_dim, output_dim):\n",
    "        self.w = torch.nn.parameter(\n",
    "            torch.randn()\n",
    "        )"
   ]
  },
  {
   "cell_type": "code",
   "execution_count": 19,
   "metadata": {},
   "outputs": [],
   "source": [
    "points = torch.randn(10, 128)\n",
    "points = points / torch.norm(points, dim=1, p=2, keepdim=True)\n",
    "points = torch.nn.Parameter(points)\n",
    "\n",
    "opt = torch.optim.Adam([points])\n",
    "\n",
    "for _ in range(100000):\n",
    "    opt.zero_grad()\n",
    "    l = points.unsqueeze(1)*points.unsqueeze(0)\n",
    "    l = l.sum(-1)\n",
    "    l = l[~torch.eye(l.size(0), dtype=torch.bool)]\n",
    "    l = l.sum()\n",
    "    \n",
    "    l.backward()\n",
    "    \n",
    "    opt.step()\n",
    "    \n",
    "    points.data = points.data / torch.norm(points.data, dim=1, p=2, keepdim=True)"
   ]
  },
  {
   "cell_type": "code",
   "execution_count": 20,
   "metadata": {},
   "outputs": [
    {
     "data": {
      "text/plain": [
       "tensor([[ 1.0000e+00, -1.0938e-01, -1.5625e-01, -1.5625e-01, -1.4062e-01,\n",
       "         -9.3749e-02,  3.1245e-02, -1.7188e-01, -1.2500e-01, -7.8125e-02],\n",
       "        [-1.0938e-01,  1.0000e+00, -1.7188e-01,  4.6876e-02, -1.8750e-01,\n",
       "         -1.7187e-01, -4.6874e-02, -2.1875e-01, -2.3438e-01,  9.3752e-02],\n",
       "        [-1.5625e-01, -1.7188e-01,  1.0000e+00, -2.8125e-01, -1.4062e-01,\n",
       "         -3.0454e-06, -9.3751e-02, -7.8122e-02,  3.1250e-02, -1.0938e-01],\n",
       "        [-1.5625e-01,  4.6876e-02, -2.8125e-01,  1.0000e+00, -1.5624e-02,\n",
       "         -3.1251e-02, -3.1250e-01, -7.8122e-02, -1.5625e-01, -1.5623e-02],\n",
       "        [-1.4062e-01, -1.8750e-01, -1.4062e-01, -1.5624e-02,  1.0000e+00,\n",
       "         -1.7187e-01, -7.8126e-02,  9.3750e-02, -7.8123e-02, -2.8125e-01],\n",
       "        [-9.3749e-02, -1.7187e-01, -3.0454e-06, -3.1251e-02, -1.7187e-01,\n",
       "          1.0000e+00, -9.3751e-02, -7.8127e-02, -1.2500e-01, -2.3437e-01],\n",
       "        [ 3.1245e-02, -4.6874e-02, -9.3751e-02, -3.1250e-01, -7.8126e-02,\n",
       "         -9.3751e-02,  1.0000e+00, -2.0312e-01, -1.2500e-01, -7.8125e-02],\n",
       "        [-1.7188e-01, -2.1875e-01, -7.8122e-02, -7.8122e-02,  9.3750e-02,\n",
       "         -7.8127e-02, -2.0312e-01,  1.0000e+00, -7.8125e-02, -1.8750e-01],\n",
       "        [-1.2500e-01, -2.3438e-01,  3.1250e-02, -1.5625e-01, -7.8123e-02,\n",
       "         -1.2500e-01, -1.2500e-01, -7.8125e-02,  1.0000e+00, -1.0938e-01],\n",
       "        [-7.8125e-02,  9.3752e-02, -1.0938e-01, -1.5623e-02, -2.8125e-01,\n",
       "         -2.3437e-01, -7.8125e-02, -1.8750e-01, -1.0938e-01,  1.0000e+00]],\n",
       "       grad_fn=<SumBackward1>)"
      ]
     },
     "execution_count": 20,
     "metadata": {},
     "output_type": "execute_result"
    }
   ],
   "source": [
    "(points.unsqueeze(1)*points.unsqueeze(0)).sum(-1)"
   ]
  },
  {
   "cell_type": "code",
   "execution_count": 50,
   "metadata": {},
   "outputs": [],
   "source": [
    "class SphericalLinear(torch.nn.Module):\n",
    "    def __init__(self, input_dim, output_dim):\n",
    "        super().__init__()\n",
    "        self.w = torch.nn.Parameter(torch.randn(output_dim, input_dim-1))\n",
    "    \n",
    "    def forward(self, x):\n",
    "        \n",
    "        w_cos = torch.cos(self.w)\n",
    "        w_sin = torch.sin(self.w)\n",
    "        \n",
    "        ones = torch.ones(self.w.size(0), 1, dtype=self.w.dtype, device=self.w.device)\n",
    "        \n",
    "        w_cos = torch.cat((w_cos, ones), dim=1)\n",
    "        w_sin = torch.cumprod(w_sin, dim=1)\n",
    "        w_sin = torch.cat((ones, w_sin), dim=1)\n",
    "        \n",
    "        w = w_sin * w_cos\n",
    "        \n",
    "        return torch.matmul(x, w.T)"
   ]
  },
  {
   "cell_type": "code",
   "execution_count": 51,
   "metadata": {},
   "outputs": [
    {
     "data": {
      "text/plain": [
       "tensor([0.2548, 0.4236, 0.5037, 0.3877, 0.0639, 0.2069, 0.1344, 0.4413, 0.1573,\n",
       "        0.0993, 0.1496], grad_fn=<NormBackward1>)"
      ]
     },
     "execution_count": 51,
     "metadata": {},
     "output_type": "execute_result"
    }
   ],
   "source": [
    "x = torch.randn(11, 128)\n",
    "x = x/x.norm(dim=1, p=2, keepdim=True)\n",
    "l = SphericalLinear(128, 10)\n",
    "l(x).norm(dim=1, p=2)"
   ]
  },
  {
   "cell_type": "code",
   "execution_count": null,
   "metadata": {},
   "outputs": [],
   "source": []
  }
 ],
 "metadata": {
  "kernelspec": {
   "display_name": "Python 3",
   "language": "python",
   "name": "python3"
  },
  "language_info": {
   "codemirror_mode": {
    "name": "ipython",
    "version": 3
   },
   "file_extension": ".py",
   "mimetype": "text/x-python",
   "name": "python",
   "nbconvert_exporter": "python",
   "pygments_lexer": "ipython3",
   "version": "3.6.11"
  }
 },
 "nbformat": 4,
 "nbformat_minor": 4
}
