{
 "cells": [
  {
   "cell_type": "code",
   "execution_count": 1,
   "metadata": {},
   "outputs": [],
   "source": [
    "%load_ext autoreload\n",
    "%autoreload 2"
   ]
  },
  {
   "cell_type": "code",
   "execution_count": 3,
   "metadata": {},
   "outputs": [],
   "source": [
    "import torch\n",
    "from core.experiment import Experiment, ExpRandomeLabeledData\n",
    "from copy import deepcopy\n",
    "from types import MethodType\n",
    "DEVICE = 'cuda:2'"
   ]
  },
  {
   "cell_type": "code",
   "execution_count": 4,
   "metadata": {},
   "outputs": [
    {
     "name": "stdout",
     "output_type": "stream",
     "text": [
      "{ \n",
      "    'output_root_dir' : , \n",
      "    'num_batches' : , \n",
      "    'tag' : , \n",
      "    'eval_interval' : , \n",
      "    'num_runs' : , \n",
      "    'num_samples' : , \n",
      "    'model' : , \n",
      "    'lr_init' : , \n",
      "    'weight_decay' : , \n",
      "    'ds_train' : , \n",
      "    'ds_test' : , \n",
      "    'momentum' : , \n",
      "    'augment' : , \n",
      "    'batch_size' : , \n",
      "    'losses' : , \n",
      "    'losses_track_only' : , \n",
      "    'w_losses' : , \n",
      "    'evaluation_policies'\n",
      "}\n"
     ]
    }
   ],
   "source": [
    "print(Experiment.args_template())"
   ]
  },
  {
   "cell_type": "code",
   "execution_count": 5,
   "metadata": {},
   "outputs": [],
   "source": [
    "args = \\\n",
    "{ \n",
    "    'output_root_dir' : '/tmp/debug/', \n",
    "    'num_batches' : 10000, \n",
    "    'tag' : 'norms_of_w', \n",
    "    'eval_interval' : None, \n",
    "    'num_runs' : 1, \n",
    "    'num_samples' : None, \n",
    "    'model' : (\"ResNet18\", {'compactification': 'sphere_l2', 'latent_dim': None, 'linear_bias': False}), \n",
    "    'lr_init' : 0.1, \n",
    "    'weight_decay' : 0.0001, \n",
    "    'ds_train' : 'cifar10_train', \n",
    "    'ds_test' : 'cifar10_test', \n",
    "    'momentum' : 0.9, \n",
    "    'augment' : 'none', \n",
    "    'batch_size' : 256, \n",
    "    'losses' : (\n",
    "        ('CrossEntropy', {'reduction': 'mean'}), \n",
    "#           ('SupConLoss', {'temperature': 0.1}),       \n",
    "#           ('SupConLossWeighted', {'temperature': 0.1, 'weight': 0.}),    \n",
    "    ), \n",
    "    'losses_track_only' : (), \n",
    "    'w_losses' : None, \n",
    "    'evaluation_policies': ('linear', 'retrained_linear', 'explicit_linear')\n",
    "}"
   ]
  },
  {
   "cell_type": "code",
   "execution_count": 6,
   "metadata": {},
   "outputs": [
    {
     "data": {
      "text/html": [
       "\n",
       "    <div>\n",
       "        <style>\n",
       "            /* Turns off some styling */\n",
       "            progress {\n",
       "                /* gets rid of default border in Firefox and Opera. */\n",
       "                border: none;\n",
       "                /* Needs to be in here for Safari polyfill so background images work as expected. */\n",
       "                background-size: auto;\n",
       "            }\n",
       "            .progress-bar-interrupted, .progress-bar-interrupted::-webkit-progress-bar {\n",
       "                background: #F44336;\n",
       "            }\n",
       "        </style>\n",
       "      <progress value='9999' class='' max='10000' style='width:300px; height:20px; vertical-align: middle;'></progress>\n",
       "      99.99% [9999/10000 20:32<00:00]\n",
       "    </div>\n",
       "    "
      ],
      "text/plain": [
       "<IPython.core.display.HTML object>"
      ]
     },
     "metadata": {},
     "output_type": "display_data"
    }
   ],
   "source": [
    "def post_batch_hook(self):\n",
    "    if self.batch_i % 10 == 0:\n",
    "        norm_w = torch.norm(self.model.cls.weight.data, p=2, dim=1)\n",
    "        self.logger.log_value('norm_w', norm_w)        \n",
    "    \n",
    "\n",
    "with torch.cuda.device(DEVICE):\n",
    "    exp = Experiment(**args)\n",
    "    exp.post_batch = MethodType(post_batch_hook, exp)\n",
    "    exp()"
   ]
  },
  {
   "cell_type": "code",
   "execution_count": null,
   "metadata": {
    "scrolled": false
   },
   "outputs": [],
   "source": [
    "# with torch.cuda.device(DEVICE):\n",
    "#     for bs in [8, 12]:\n",
    "#         args_i = deepcopy(args)\n",
    "#         args_i['batch_size'] = bs\n",
    "#         exp = ExpRandomeLabeledData(**args_i)\n",
    "#         exp()"
   ]
  }
 ],
 "metadata": {
  "kernelspec": {
   "display_name": "Python 3",
   "language": "python",
   "name": "python3"
  },
  "language_info": {
   "codemirror_mode": {
    "name": "ipython",
    "version": 3
   },
   "file_extension": ".py",
   "mimetype": "text/x-python",
   "name": "python",
   "nbconvert_exporter": "python",
   "pygments_lexer": "ipython3",
   "version": "3.6.11"
  }
 },
 "nbformat": 4,
 "nbformat_minor": 4
}
