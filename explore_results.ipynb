{
 "cells": [
  {
   "cell_type": "code",
   "execution_count": 10,
   "metadata": {},
   "outputs": [
    {
     "name": "stdout",
     "output_type": "stream",
     "text": [
      "The autoreload extension is already loaded. To reload it, use:\n",
      "  %reload_ext autoreload\n"
     ]
    }
   ],
   "source": [
    "%load_ext autoreload\n",
    "%autoreload 2\n",
    "\n",
    "\n",
    "import os\n",
    "import sys\n",
    "import glob\n",
    "import torch\n",
    "import json\n",
    "import pandas as pd\n",
    "import time\n",
    "import qgrid\n",
    "import torch\n",
    "\n",
    "\n",
    "from pytorch_utils.logging import LoggerReader\n",
    "from pytorch_utils.collection_utils import keychain_value_iter\n",
    "from collections import defaultdict, OrderedDict\n",
    "from pathlib import Path\n",
    "\n",
    "import matplotlib.pyplot as plt\n",
    "import matplotlib\n",
    "# import mpld3\n",
    "# mpld3.enable_notebook()\n",
    "%matplotlib inline\n",
    "\n",
    "from nb_common import load_results\n",
    "\n",
    "\n",
    "DEVICE = 'cuda:2'"
   ]
  },
  {
   "cell_type": "code",
   "execution_count": 11,
   "metadata": {},
   "outputs": [],
   "source": [
    "# root = Path('/scratch2/chofer/toporeg_sandbox/'\n",
    "\n",
    "# root = Path('/tmp/tmp_results')\n",
    "# root = Path('/tmp/testing')\n",
    "root = Path('/tmp/debug')\n",
    "#root = Path('/tmp/grid_1')\n",
    "\n",
    "\n",
    "# root = Path('/home/pma/chofer/repositories/toporeg_sandbox/results_energy/')\n"
   ]
  },
  {
   "cell_type": "code",
   "execution_count": 76,
   "metadata": {},
   "outputs": [],
   "source": [
    "args_white_list = {\n",
    "    'num_runs', \n",
    "    'num_samples', \n",
    "    'num_batches',\n",
    "    'num_sub_batches',\n",
    "    'size_sub_batch',\n",
    "    'tag', \n",
    "    'eval_interval',\n",
    "    'model', \n",
    "    'lr_init',\n",
    "    'weight_decay',\n",
    "    'ds_train',\n",
    "    'ds_test' ,\n",
    "    'momentum',\n",
    "    'augment',\n",
    "    'losses',\n",
    "    'w_losses',\n",
    "}\n",
    "\n",
    "# tag='spectral_norm'\n",
    "tag = None\n",
    "\n",
    "\n",
    "def progress(logger_reader):\n",
    "    n_runs = len(logger_reader)\n",
    "    \n",
    "    if len(logger_reader) == 0 or 'batch_i' not in logger_reader:\n",
    "        return \"not started\"    \n",
    "    \n",
    "    n_batches = logger_reader[-1][\"batch_i\"]+1        \n",
    "        \n",
    "    args = logger_reader.experiment_args\n",
    "    \n",
    "    if n_runs == args['num_runs'] and n_batches == args['num_batches']:\n",
    "        return True\n",
    "    else:\n",
    "        s = '{}/{}'.format(n_runs, str(args['num_runs']))\n",
    "        s += ' {:.2%} '.format(n_batches/float(args['num_batches']))\n",
    "        return s\n",
    "    \n",
    "\n",
    "def args_df_from_results():\n",
    "    RESULTS = load_results(root, tag=tag)\n",
    "    R = []\n",
    "    \n",
    "    for i, r in enumerate(RESULTS):\n",
    "        \n",
    "        df = {k: str(v) if isinstance(v, (list, tuple)) else v for  k, v in r.experiment_args.items() if k in args_white_list}\n",
    "        df['experiment'] = r.experiment_args['experiment_type']\n",
    "        df['date'] = r.date\n",
    "        df = pd.DataFrame(df, index=[i]) \n",
    "        df['progress'] = progress(r)\n",
    "        \n",
    "        R.append(df)   \n",
    "        \n",
    "    return pd.concat(R, sort=False)\n",
    "\n",
    "\n",
    "def progress_from_results():\n",
    "    RESULTS = load_results(root, tag=tag)\n",
    "    \n",
    "    tmp = defaultdict(list)\n",
    "    \n",
    "    for i, r in enumerate(RESULTS):\n",
    "        \n",
    "        p = progress(r)\n",
    "        \n",
    "        if isinstance(p, str):\n",
    "            tmp['Idx'].append(i)\n",
    "            tmp['progress'].append(p)\n",
    "            tmp['path'].append(r.path)\n",
    "            \n",
    "    return pd.DataFrame(tmp)\n",
    "    \n",
    "\n",
    "def df_from_results():\n",
    "    RESULTS = load_results(root, tag=tag)\n",
    "    A = args_df_from_results()\n",
    "    \n",
    "    tmp = []\n",
    "    for i, r in enumerate(RESULTS):\n",
    "        df = {}\n",
    "        for k in [\n",
    "            'linear_train',\n",
    "            'linear_test',\n",
    "            'retrained_linear_train',\n",
    "            'retrained_linear_test',\n",
    "            'explicit_linear_train', \n",
    "            'explicit_linear_test'        \n",
    "        ]:\n",
    "            try:\n",
    "                df[k] = np.mean([run[k][-1] for run in r])\n",
    "                \n",
    "            except KeyError:\n",
    "                pass\n",
    "            \n",
    "        tmp.append(pd.DataFrame(df, index=[i]))\n",
    "    \n",
    "    B = pd.concat(tmp, sort=False)\n",
    "    return A.join(B) "
   ]
  },
  {
   "cell_type": "code",
   "execution_count": 77,
   "metadata": {},
   "outputs": [],
   "source": [
    "def plt_losses(idx,from_batch_i=0):\n",
    "    RESULTS = load_results(root, tag=tag)\n",
    "    plt.figure() \n",
    "    \n",
    "    r = RESULTS[idx][0] \n",
    "    \n",
    "    for k, v in r.items():\n",
    "        \n",
    "        if 'batch_' in k and k not in ['batch_cls_loss', 'batch_i']:\n",
    "            \n",
    "            plt.plot(r[k][from_batch_i:], label=k.split('batch_')[1], alpha=0.5)\n",
    "            \n",
    "    plt.legend()\n",
    "    plt.grid()"
   ]
  },
  {
   "cell_type": "code",
   "execution_count": 78,
   "metadata": {},
   "outputs": [
    {
     "data": {
      "text/html": [
       "<div>\n",
       "<style scoped>\n",
       "    .dataframe tbody tr th:only-of-type {\n",
       "        vertical-align: middle;\n",
       "    }\n",
       "\n",
       "    .dataframe tbody tr th {\n",
       "        vertical-align: top;\n",
       "    }\n",
       "\n",
       "    .dataframe thead th {\n",
       "        text-align: right;\n",
       "    }\n",
       "</style>\n",
       "<table border=\"1\" class=\"dataframe\">\n",
       "  <thead>\n",
       "    <tr style=\"text-align: right;\">\n",
       "      <th></th>\n",
       "      <th>Idx</th>\n",
       "      <th>progress</th>\n",
       "      <th>path</th>\n",
       "    </tr>\n",
       "  </thead>\n",
       "  <tbody>\n",
       "    <tr>\n",
       "      <th>0</th>\n",
       "      <td>0</td>\n",
       "      <td>not started</td>\n",
       "      <td>/tmp/debug/11-10-2020-07-31-18__a32bad45-e705-...</td>\n",
       "    </tr>\n",
       "    <tr>\n",
       "      <th>1</th>\n",
       "      <td>1</td>\n",
       "      <td>not started</td>\n",
       "      <td>/tmp/debug/11-10-2020-07-57-50__f36dcade-b734-...</td>\n",
       "    </tr>\n",
       "    <tr>\n",
       "      <th>2</th>\n",
       "      <td>2</td>\n",
       "      <td>not started</td>\n",
       "      <td>/tmp/debug/11-10-2020-08-01-34__7643c653-0b3a-...</td>\n",
       "    </tr>\n",
       "    <tr>\n",
       "      <th>3</th>\n",
       "      <td>3</td>\n",
       "      <td>not started</td>\n",
       "      <td>/tmp/debug/11-10-2020-08-29-52__59af3254-86fe-...</td>\n",
       "    </tr>\n",
       "    <tr>\n",
       "      <th>4</th>\n",
       "      <td>4</td>\n",
       "      <td>not started</td>\n",
       "      <td>/tmp/debug/11-10-2020-08-30-25__45c1759e-885b-...</td>\n",
       "    </tr>\n",
       "  </tbody>\n",
       "</table>\n",
       "</div>"
      ],
      "text/plain": [
       "   Idx     progress                                               path\n",
       "0    0  not started  /tmp/debug/11-10-2020-07-31-18__a32bad45-e705-...\n",
       "1    1  not started  /tmp/debug/11-10-2020-07-57-50__f36dcade-b734-...\n",
       "2    2  not started  /tmp/debug/11-10-2020-08-01-34__7643c653-0b3a-...\n",
       "3    3  not started  /tmp/debug/11-10-2020-08-29-52__59af3254-86fe-...\n",
       "4    4  not started  /tmp/debug/11-10-2020-08-30-25__45c1759e-885b-..."
      ]
     },
     "execution_count": 78,
     "metadata": {},
     "output_type": "execute_result"
    }
   ],
   "source": [
    "progress_from_results()"
   ]
  },
  {
   "cell_type": "code",
   "execution_count": 79,
   "metadata": {},
   "outputs": [],
   "source": [
    "#RESULTS[31].path"
   ]
  },
  {
   "cell_type": "code",
   "execution_count": null,
   "metadata": {},
   "outputs": [],
   "source": []
  },
  {
   "cell_type": "code",
   "execution_count": 80,
   "metadata": {
    "scrolled": false
   },
   "outputs": [
    {
     "data": {
      "text/html": [
       "<div>\n",
       "<style scoped>\n",
       "    .dataframe tbody tr th:only-of-type {\n",
       "        vertical-align: middle;\n",
       "    }\n",
       "\n",
       "    .dataframe tbody tr th {\n",
       "        vertical-align: top;\n",
       "    }\n",
       "\n",
       "    .dataframe thead th {\n",
       "        text-align: right;\n",
       "    }\n",
       "</style>\n",
       "<table border=\"1\" class=\"dataframe\">\n",
       "  <thead>\n",
       "    <tr style=\"text-align: right;\">\n",
       "      <th></th>\n",
       "      <th>num_batches</th>\n",
       "      <th>tag</th>\n",
       "      <th>eval_interval</th>\n",
       "      <th>num_runs</th>\n",
       "      <th>num_samples</th>\n",
       "      <th>model</th>\n",
       "      <th>lr_init</th>\n",
       "      <th>weight_decay</th>\n",
       "      <th>ds_train</th>\n",
       "      <th>ds_test</th>\n",
       "      <th>momentum</th>\n",
       "      <th>augment</th>\n",
       "      <th>num_sub_batches</th>\n",
       "      <th>size_sub_batch</th>\n",
       "      <th>losses</th>\n",
       "      <th>w_losses</th>\n",
       "      <th>experiment</th>\n",
       "      <th>date</th>\n",
       "      <th>progress</th>\n",
       "    </tr>\n",
       "  </thead>\n",
       "  <tbody>\n",
       "    <tr>\n",
       "      <th>0</th>\n",
       "      <td>100</td>\n",
       "      <td></td>\n",
       "      <td>100</td>\n",
       "      <td>1</td>\n",
       "      <td>None</td>\n",
       "      <td>['ResNet18', {'compactification': 'sphere_l2',...</td>\n",
       "      <td>0.1</td>\n",
       "      <td>0.0001</td>\n",
       "      <td>cifar10_train</td>\n",
       "      <td>cifar10_test</td>\n",
       "      <td>0.9</td>\n",
       "      <td>none</td>\n",
       "      <td>1</td>\n",
       "      <td>256</td>\n",
       "      <td>[['SupConLoss', {'temperature': 0.1}]]</td>\n",
       "      <td>None</td>\n",
       "      <td>core.experiment.Experiment</td>\n",
       "      <td>2020-11-10 07:31:18</td>\n",
       "      <td>not started</td>\n",
       "    </tr>\n",
       "    <tr>\n",
       "      <th>1</th>\n",
       "      <td>10000</td>\n",
       "      <td></td>\n",
       "      <td>10000</td>\n",
       "      <td>1</td>\n",
       "      <td>None</td>\n",
       "      <td>['ResNet18', {'compactification': 'sphere_l2',...</td>\n",
       "      <td>0.1</td>\n",
       "      <td>0.0001</td>\n",
       "      <td>cifar10_train</td>\n",
       "      <td>cifar10_test</td>\n",
       "      <td>0.9</td>\n",
       "      <td>none</td>\n",
       "      <td>1</td>\n",
       "      <td>256</td>\n",
       "      <td>[['SupConLossWeighted', {'temperature': 0.1, '...</td>\n",
       "      <td>None</td>\n",
       "      <td>core.experiment.Experiment</td>\n",
       "      <td>2020-11-10 07:57:50</td>\n",
       "      <td>not started</td>\n",
       "    </tr>\n",
       "    <tr>\n",
       "      <th>2</th>\n",
       "      <td>10000</td>\n",
       "      <td></td>\n",
       "      <td>10000</td>\n",
       "      <td>1</td>\n",
       "      <td>1000</td>\n",
       "      <td>['ResNet18', {'compactification': 'sphere_l2',...</td>\n",
       "      <td>0.1</td>\n",
       "      <td>0.0001</td>\n",
       "      <td>cifar10_train</td>\n",
       "      <td>cifar10_test</td>\n",
       "      <td>0.9</td>\n",
       "      <td>none</td>\n",
       "      <td>1</td>\n",
       "      <td>256</td>\n",
       "      <td>[['SupConLossWeighted', {'temperature': 0.1, '...</td>\n",
       "      <td>None</td>\n",
       "      <td>core.experiment.Experiment</td>\n",
       "      <td>2020-11-10 08:01:34</td>\n",
       "      <td>not started</td>\n",
       "    </tr>\n",
       "    <tr>\n",
       "      <th>3</th>\n",
       "      <td>1000</td>\n",
       "      <td></td>\n",
       "      <td>1000</td>\n",
       "      <td>1</td>\n",
       "      <td>1000</td>\n",
       "      <td>['ResNet18', {'compactification': 'sphere_l2',...</td>\n",
       "      <td>0.1</td>\n",
       "      <td>0.0001</td>\n",
       "      <td>cifar10_train</td>\n",
       "      <td>cifar10_test</td>\n",
       "      <td>0.9</td>\n",
       "      <td>none</td>\n",
       "      <td>1</td>\n",
       "      <td>256</td>\n",
       "      <td>[['SupConLossWeighted', {'temperature': 0.1, '...</td>\n",
       "      <td>None</td>\n",
       "      <td>core.experiment.Experiment</td>\n",
       "      <td>2020-11-10 08:29:52</td>\n",
       "      <td>not started</td>\n",
       "    </tr>\n",
       "    <tr>\n",
       "      <th>4</th>\n",
       "      <td>1000</td>\n",
       "      <td></td>\n",
       "      <td>1000</td>\n",
       "      <td>1</td>\n",
       "      <td>1000</td>\n",
       "      <td>['ResNet18', {'compactification': 'sphere_l2',...</td>\n",
       "      <td>0.1</td>\n",
       "      <td>0.0001</td>\n",
       "      <td>cifar10_train</td>\n",
       "      <td>cifar10_test</td>\n",
       "      <td>0.9</td>\n",
       "      <td>none</td>\n",
       "      <td>1</td>\n",
       "      <td>256</td>\n",
       "      <td>[['SupConLossWeighted', {'temperature': 0.1, '...</td>\n",
       "      <td>None</td>\n",
       "      <td>core.experiment.Experiment</td>\n",
       "      <td>2020-11-10 08:30:25</td>\n",
       "      <td>not started</td>\n",
       "    </tr>\n",
       "  </tbody>\n",
       "</table>\n",
       "</div>"
      ],
      "text/plain": [
       "   num_batches tag  eval_interval  num_runs num_samples  \\\n",
       "0          100                100         1        None   \n",
       "1        10000              10000         1        None   \n",
       "2        10000              10000         1        1000   \n",
       "3         1000               1000         1        1000   \n",
       "4         1000               1000         1        1000   \n",
       "\n",
       "                                               model  lr_init  weight_decay  \\\n",
       "0  ['ResNet18', {'compactification': 'sphere_l2',...      0.1        0.0001   \n",
       "1  ['ResNet18', {'compactification': 'sphere_l2',...      0.1        0.0001   \n",
       "2  ['ResNet18', {'compactification': 'sphere_l2',...      0.1        0.0001   \n",
       "3  ['ResNet18', {'compactification': 'sphere_l2',...      0.1        0.0001   \n",
       "4  ['ResNet18', {'compactification': 'sphere_l2',...      0.1        0.0001   \n",
       "\n",
       "        ds_train       ds_test  momentum augment  num_sub_batches  \\\n",
       "0  cifar10_train  cifar10_test       0.9    none                1   \n",
       "1  cifar10_train  cifar10_test       0.9    none                1   \n",
       "2  cifar10_train  cifar10_test       0.9    none                1   \n",
       "3  cifar10_train  cifar10_test       0.9    none                1   \n",
       "4  cifar10_train  cifar10_test       0.9    none                1   \n",
       "\n",
       "   size_sub_batch                                             losses w_losses  \\\n",
       "0             256             [['SupConLoss', {'temperature': 0.1}]]     None   \n",
       "1             256  [['SupConLossWeighted', {'temperature': 0.1, '...     None   \n",
       "2             256  [['SupConLossWeighted', {'temperature': 0.1, '...     None   \n",
       "3             256  [['SupConLossWeighted', {'temperature': 0.1, '...     None   \n",
       "4             256  [['SupConLossWeighted', {'temperature': 0.1, '...     None   \n",
       "\n",
       "                   experiment                date     progress  \n",
       "0  core.experiment.Experiment 2020-11-10 07:31:18  not started  \n",
       "1  core.experiment.Experiment 2020-11-10 07:57:50  not started  \n",
       "2  core.experiment.Experiment 2020-11-10 08:01:34  not started  \n",
       "3  core.experiment.Experiment 2020-11-10 08:29:52  not started  \n",
       "4  core.experiment.Experiment 2020-11-10 08:30:25  not started  "
      ]
     },
     "execution_count": 80,
     "metadata": {},
     "output_type": "execute_result"
    }
   ],
   "source": [
    "args_df_from_results()"
   ]
  },
  {
   "cell_type": "code",
   "execution_count": 83,
   "metadata": {
    "scrolled": true
   },
   "outputs": [
    {
     "name": "stderr",
     "output_type": "stream",
     "text": [
      "/scratch2/chofer/opt/anaconda3/envs/pyt_1.6/lib/python3.6/site-packages/numpy/core/fromnumeric.py:3335: RuntimeWarning: Mean of empty slice.\n",
      "  out=out, **kwargs)\n",
      "/scratch2/chofer/opt/anaconda3/envs/pyt_1.6/lib/python3.6/site-packages/numpy/core/_methods.py:161: RuntimeWarning: invalid value encountered in double_scalars\n",
      "  ret = ret.dtype.type(ret / rcount)\n"
     ]
    },
    {
     "data": {
      "application/vnd.jupyter.widget-view+json": {
       "model_id": "5ce0f6381f14428fb09939b84fabf195",
       "version_major": 2,
       "version_minor": 0
      },
      "text/plain": [
       "QgridWidget(grid_options={'fullWidthRows': True, 'syncColumnCellResize': True, 'forceFitColumns': True, 'defau…"
      ]
     },
     "metadata": {},
     "output_type": "display_data"
    }
   ],
   "source": [
    "qgrid_widget = qgrid.show_grid(df_from_results(), show_toolbar=True)\n",
    "qgrid_widget"
   ]
  },
  {
   "cell_type": "code",
   "execution_count": 376,
   "metadata": {},
   "outputs": [],
   "source": [
    "# rkwitt\n",
    "def plot_multiple_losses(idxs,from_batch_i=0):\n",
    "    RESULTS = load_results(root, tag=tag)\n",
    "    plt.figure() \n",
    "    \n",
    "    for idx in idxs:\n",
    "        \n",
    "        r = RESULTS[idx][0] \n",
    "\n",
    "        for k, v in r.items():\n",
    "\n",
    "            if 'batch_' in k and k not in ['batch_cls_loss', 'batch_i']:\n",
    "\n",
    "                plt.plot(r[k][from_batch_i:], label=k.split('batch_')[1] + '_{}'.format(idx))\n",
    "\n",
    "    plt.legend()\n",
    "    plt.grid()"
   ]
  },
  {
   "cell_type": "code",
   "execution_count": 383,
   "metadata": {
    "scrolled": false
   },
   "outputs": [
    {
     "data": {
      "image/png": "[encoded data removed]",
      "text/plain": [
       "<Figure size 432x288 with 1 Axes>"
      ]
     },
     "metadata": {
      "needs_background": "light"
     },
     "output_type": "display_data"
    }
   ],
   "source": [
    "plot_multiple_losses([33,35], from_batch_i=0)"
   ]
  },
  {
   "cell_type": "code",
   "execution_count": 381,
   "metadata": {},
   "outputs": [
    {
     "data": {
      "image/png": "[encoded data removed]",
      "text/plain": [
       "<Figure size 432x288 with 1 Axes>"
      ]
     },
     "metadata": {
      "needs_background": "light"
     },
     "output_type": "display_data"
    }
   ],
   "source": [
    "plt_losses(-3, from_batch_i=0)\n",
    "# plt.gca().set_ylim((0, 3))\n",
    "# plt.gca().plot([0, 40000],[np.log(10), np.log(10)])"
   ]
  },
  {
   "cell_type": "code",
   "execution_count": null,
   "metadata": {},
   "outputs": [],
   "source": []
  },
  {
   "cell_type": "code",
   "execution_count": 382,
   "metadata": {},
   "outputs": [
    {
     "data": {
      "text/plain": [
       "{'num_runs': 1,\n",
       " 'output_root_dir': '/tmp/testing/',\n",
       " 'num_batches': 50000,\n",
       " 'augment': 'none',\n",
       " 'tag': '',\n",
       " 'model': ['SimpleCNN13',\n",
       "  {'batch_norm': True,\n",
       "   'drop_out': False,\n",
       "   'final_bn': True,\n",
       "   'compactification': 'sphere_l2',\n",
       "   'linear_bias': False,\n",
       "   'cls_norm': 'none',\n",
       "   'latent_dim': None}],\n",
       " 'batch_cfg': [256, {'+': 1, '-': 0}],\n",
       " 'lr_init': 0.1,\n",
       " 'momentum': 0.0,\n",
       " 'weight_decay': 0.001,\n",
       " 'ds_train': 'cifar10_train',\n",
       " 'ds_test': 'cifar10_test',\n",
       " 'energies': [['CrossEntropy', {}]],\n",
       " 'energies_track_only': [['SupConLossWeighted',\n",
       "   {'temperature': 0.1, 'weight': 1.0}]],\n",
       " 'w_energies': None,\n",
       " 'eval_interval': 50000,\n",
       " 'evaluation_policies': ['optimized_linear', 'explicit_linear'],\n",
       " 'experiment_type': 'core.experiment_energy.ExpEnergyRandomLabeledData'}"
      ]
     },
     "execution_count": 382,
     "metadata": {},
     "output_type": "execute_result"
    }
   ],
   "source": [
    "load_results(root)[-3].experiment_args"
   ]
  },
  {
   "cell_type": "code",
   "execution_count": 102,
   "metadata": {},
   "outputs": [
    {
     "data": {
      "image/png": "[encoded data removed]",
      "text/plain": [
       "<Figure size 432x288 with 1 Axes>"
      ]
     },
     "metadata": {
      "needs_background": "light"
     },
     "output_type": "display_data"
    }
   ],
   "source": [
    "plt_losses(-4, from_batch_i=0)"
   ]
  },
  {
   "cell_type": "code",
   "execution_count": 330,
   "metadata": {},
   "outputs": [
    {
     "data": {
      "image/png": "[encoded data removed]",
      "text/plain": [
       "<Figure size 432x288 with 1 Axes>"
      ]
     },
     "metadata": {
      "needs_background": "light"
     },
     "output_type": "display_data"
    }
   ],
   "source": [
    "plt_losses(6, from_batch_i=100)"
   ]
  },
  {
   "cell_type": "code",
   "execution_count": 297,
   "metadata": {},
   "outputs": [
    {
     "data": {
      "image/png": "[encoded data removed]",
      "text/plain": [
       "<Figure size 432x288 with 1 Axes>"
      ]
     },
     "metadata": {
      "needs_background": "light"
     },
     "output_type": "display_data"
    },
    {
     "data": {
      "image/png": "[encoded data removed]",
      "text/plain": [
       "<Figure size 432x288 with 1 Axes>"
      ]
     },
     "metadata": {
      "needs_background": "light"
     },
     "output_type": "display_data"
    }
   ],
   "source": [
    "idx = 2\n",
    "\n",
    "plt.figure()\n",
    "plt.plot(RESULTS[idx][0]['batch_SphereRepulsion'])\n",
    "plt.plot(RESULTS[idx][0]['batch_SphereAttraction'])\n",
    "plt.grid()\n",
    "\n",
    "plt.figure()\n",
    "Y = np.array(RESULTS[idx][0]['batch_SphereRepulsion'])\n",
    "Y += np.array(RESULTS[idx][0]['batch_SphereAttraction'])\n",
    "plt.plot(Y)\n",
    "plt.grid()"
   ]
  },
  {
   "cell_type": "code",
   "execution_count": 356,
   "metadata": {},
   "outputs": [
    {
     "name": "stdout",
     "output_type": "stream",
     "text": [
      "tensor([2.9218, 2.9174, 2.9175, 2.9161, 2.9200, 2.9191, 2.9157, 2.9195, 2.9171,\n",
      "        2.9194])\n",
      "tensor([1.2652, 1.2491, 1.2752, 1.2764, 1.2690, 1.2716, 1.2627, 1.2585, 1.2604,\n",
      "        1.2600])\n"
     ]
    }
   ],
   "source": [
    "R = load_results(root)\n",
    "for idx in [1, 11]:\n",
    "    m = R[idx].load_model(0, 'optimized_linear')\n",
    "    print(m.weight.data.norm(p=2, dim=1))\n",
    "    "
   ]
  },
  {
   "cell_type": "code",
   "execution_count": 59,
   "metadata": {},
   "outputs": [
    {
     "data": {
      "text/plain": [
       "dict_keys(['linear_test', 'explicit_linear_train', 'linear_train', 'optimized_linear_loss', 'optimized_linear_test', 'optimized_linear_train', 'batch_CrossEntropy', 'explicit_linear_test', 'batch_i'])"
      ]
     },
     "execution_count": 59,
     "metadata": {},
     "output_type": "execute_result"
    }
   ],
   "source": [
    "load_results(root)[0][0].keys() #['retrained_linear_train']"
   ]
  },
  {
   "cell_type": "code",
   "execution_count": null,
   "metadata": {},
   "outputs": [],
   "source": []
  }
 ],
 "metadata": {
  "kernelspec": {
   "display_name": "Python 3",
   "language": "python",
   "name": "python3"
  },
  "language_info": {
   "codemirror_mode": {
    "name": "ipython",
    "version": 3
   },
   "file_extension": ".py",
   "mimetype": "text/x-python",
   "name": "python",
   "nbconvert_exporter": "python",
   "pygments_lexer": "ipython3",
   "version": "3.6.11"
  }
 },
 "nbformat": 4,
 "nbformat_minor": 2
}
