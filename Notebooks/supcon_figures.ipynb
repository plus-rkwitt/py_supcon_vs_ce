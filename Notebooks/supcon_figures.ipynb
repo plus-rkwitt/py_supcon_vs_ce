{
 "cells": [
  {
   "cell_type": "code",
   "execution_count": 2,
   "metadata": {},
   "outputs": [],
   "source": [
    "import torch\n",
    "import torch.nn as nn\n",
    "import numpy as np\n",
    "import math\n",
    "import pickle\n",
    "import matplotlib.pyplot as plt \n",
    "\n",
    "\n",
    "DEVICE = 'cuda:0'"
   ]
  },
  {
   "cell_type": "markdown",
   "metadata": {},
   "source": [
    "# Minimizer of supvervised contrastive loss (sum of batchwise losses)"
   ]
  },
  {
   "cell_type": "markdown",
   "metadata": {},
   "source": [
    "Definition of supervised contrastive loss and toy data, uniformly distributed on the sphere"
   ]
  },
  {
   "cell_type": "code",
   "execution_count": 3,
   "metadata": {},
   "outputs": [],
   "source": [
    "class SupConLoss(nn.Module):\n",
    "\n",
    "    def __init__(self,\n",
    "                 temperature):\n",
    "\n",
    "        self.temperature = temperature\n",
    "\n",
    "    def __call__(self, y_hat, y, reduce=True):\n",
    "        \n",
    "        self.inv_eye = ~torch.eye(\n",
    "            y.shape[0], dtype=bool, device = y.device)\n",
    "\n",
    "        # latent representation\n",
    "        z = y_hat\n",
    "        z = z/torch.norm(z, p=2, keepdim=True, dim=1)\n",
    "        y = y.view(-1, 1)\n",
    "\n",
    "        # mask(i,j) = true if label_i == label_j\n",
    "        mask = torch.eq(y, y.T)\n",
    "\n",
    "        # weighting factor\n",
    "        w = 1./(mask.sum(-1, keepdim=True).float()-1)\n",
    "        w[w==float('Inf')] = 0\n",
    "        # inner product matrix (scaled by temp)\n",
    "        ips = torch.div(torch.matmul(z, z.T), self.temperature)\n",
    "        \n",
    "        # new inner product matrix where diagonal is removed\n",
    "        ips = ips.masked_select(self.inv_eye).view(z.size(0), z.size(0) - 1)\n",
    "        # new mask where diagonal is removed\n",
    "        mask = mask.masked_select(self.inv_eye).view(z.size(0), z.size(0) - 1)\n",
    "\n",
    "        # apply log-softmax along dim=1 to inner product matrix with removed diagonal entries\n",
    "        ips = nn.functional.log_softmax(ips, dim=1)*w\n",
    " \n",
    "        return -ips.masked_select(mask).sum() #/ float(y.size(0))"
   ]
  },
  {
   "cell_type": "code",
   "execution_count": 4,
   "metadata": {},
   "outputs": [],
   "source": [
    "from torch.utils.data import Dataset, DataLoader\n",
    "\n",
    "    \n",
    "class SphereDataset(Dataset):\n",
    "    def __init__(self, num_classes, num_samples, dim = 2, points=None, labels=None):\n",
    "        \n",
    "        if torch.is_tensor(points) and points.shape[0] == labels.shape[0]:\n",
    "            self.points = points.detach()\n",
    "            self.points.requires_grad = True\n",
    "            self.labels = labels\n",
    "            self.num_classes = len(np.unique(self.labels))\n",
    "            self.num_samples = self.points.size(0)\n",
    "            \n",
    "        else:\n",
    "            self.num_classes = num_classes\n",
    "            self.num_samples = num_samples\n",
    "            self.gen_rand_data(dim)\n",
    "\n",
    "    def __len__(self):\n",
    "        return self.points.size(0)\n",
    "\n",
    "    def __getitem__(self, idx):\n",
    "        return self.points[idx], self.labels[idx]\n",
    "    \n",
    "    def gen_rand_data(self, dim):  \n",
    "        \n",
    "        self.labels = np.random.randint(0,self.num_classes,(self.num_samples,))\n",
    "        \n",
    "        self.points = torch.randn(self.num_samples,dim + 1)\n",
    "        self.points = self.points/torch.norm(self.points, p=2, dim=1, keepdim=True)\n",
    "        #If points should lie IN the ball, uncomment the following line\n",
    "        #self.points = self.points * torch.rand([self.points.shape[0],1])\n",
    "        self.points.requires_grad = True \n",
    "        \n",
    "    \n",
    "    def copy(self):\n",
    "        p = torch.tensor(self.points.detach().numpy(), requires_grad=True)\n",
    "        return SphereDataset(0,0,0,p, self.labels)"
   ]
  },
  {
   "cell_type": "code",
   "execution_count": 5,
   "metadata": {},
   "outputs": [],
   "source": [
    "from itertools import combinations_with_replacement  \n",
    "from torch.utils.data.sampler import Sampler\n",
    "from scipy.special import binom\n",
    "import random\n",
    "\n",
    "def mchoose(n,k):\n",
    "    return int(binom(n+k-1,k))\n",
    "\n",
    "class mset_sampler(Sampler):\n",
    "    '''Sampler to iterate over all possible distinct batches once'''\n",
    "    def __init__(self, dataset, batch_size):\n",
    "        self.batch_size = batch_size\n",
    "        self.len_data = len(dataset)\n",
    "        self.batches = combinations_with_replacement(range(self.len_data), batch_size) \n",
    "        self.batches = [list(batch) for batch in self.batches]\n",
    "        random.shuffle(self.batches)\n",
    "    \n",
    "    def __iter__(self):        \n",
    "        return iter(self.batches)\n",
    "    \n",
    "    def __len__(self):\n",
    "        return mchoose(self.len_data, self.batch_size)"
   ]
  },
  {
   "cell_type": "code",
   "execution_count": 6,
   "metadata": {},
   "outputs": [],
   "source": [
    "def train(data, bs, lr):\n",
    "    losses = []\n",
    "    criterion = SupConLoss(1)\n",
    "    \n",
    "    sampler = mset_sampler(data, bs)\n",
    "    dl_train = torch.utils.data.DataLoader(data, batch_sampler = sampler)\n",
    "    \n",
    "    for j, (batch_x, batch_y) in enumerate(dl_train):   \n",
    "       \n",
    "        if j% int(len(sampler)/10) == 0:\n",
    "            #print progress\n",
    "            print(str(j)+\" / \" + str(len(sampler)))            \n",
    "            # lower the learning rate to mitigate \"shaking\"\n",
    "            lr = lr / 2.\n",
    "                \n",
    "        batch_x = batch_x.to(DEVICE) \n",
    "        batch_y = batch_y.to(DEVICE)   \n",
    "        \n",
    "        loss = criterion(batch_x, batch_y)        \n",
    "        loss.backward() \n",
    "        losses.append(loss)\n",
    "        \n",
    "        # SGD step\n",
    "        data.points = data.points - lr * data.points.grad\n",
    "        \n",
    "        # project on sphere again        \n",
    "        with torch.no_grad():\n",
    "            data.points = data.points/torch.norm(data.points,dim=1, p=2, keepdim=True, dtype= torch.double)\n",
    "            data.points.requires_grad = True\n",
    "    return losses\n",
    "\n",
    "def evaluate(data, bs):\n",
    "    losses = []\n",
    "    label_confs = []\n",
    "    criterion = SupConLoss(1)\n",
    "    n_labels = len(np.unique(data.labels))\n",
    "    \n",
    "    sampler = mset_sampler(data, bs)\n",
    "    dl_train = torch.utils.data.DataLoader(data, batch_sampler = sampler)\n",
    "    \n",
    "    for j, (batch_x, batch_y) in enumerate(dl_train):\n",
    "        \n",
    "        if j% int(len(sampler)/10) == 0:\n",
    "            #print progress\n",
    "            print(str(j)+\" / \" + str(len(sampler)))   \n",
    "                \n",
    "        batch_x = batch_x.to(DEVICE) \n",
    "        batch_y = batch_y.to(DEVICE)   \n",
    "        \n",
    "        loss = criterion(batch_x, batch_y)        \n",
    "        losses.append(loss)    \n",
    "        labels = batch_y.cpu().numpy()\n",
    "        label_conf = np.bincount(labels, minlength = n_labels )\n",
    "        label_confs.append(tuple(label_conf))\n",
    "        \n",
    "    return losses, label_confs"
   ]
  },
  {
   "cell_type": "code",
   "execution_count": 7,
   "metadata": {},
   "outputs": [],
   "source": [
    "from matplotlib import cm\n",
    "import matplotlib.gridspec as gridspec\n",
    "import matplotlib.patches as patches\n",
    "\n",
    "def plot_bw_losses(losses, label_confs, colormap):\n",
    "    labels = np.asarray(label_confs)\n",
    "    losses = np.asarray(torch.tensor(losses))\n",
    "    unique_confs = list(set(label_confs))\n",
    "    unique_conf_losses = [losses[(labels==conf).prod(1).astype(bool)] for conf in unique_confs]\n",
    "    idxs = index_by_confs(label_confs)\n",
    "    labels = [str(conf[0]).replace(\"[\",\"{\").replace(\"]\",\"}\") for conf in confs]\n",
    "    \n",
    "    fig = plt.figure(figsize=(10,5))   \n",
    "    #use gridspec with two rows, so that legend is not cut off\n",
    "    spec = gridspec.GridSpec(ncols=2, nrows=2, figure=fig, width_ratios= [3, 1], height_ratios=[3,1])\n",
    "    ax0 = fig.add_subplot(spec[0,0])\n",
    "    ax1 = fig.add_subplot(spec[0,1])\n",
    "    #ax_leg = fig.add_subplot(spec[1,:])\n",
    "    for i in range(len(idxs)):\n",
    "        ax0.scatter(idxs[i], losses[idxs[i]], s=.1, color = colormap(i/len(idxs)), \n",
    "                    label = labels[i])\n",
    "        ax1.barh(losses[idxs[i]][0], len(idxs[i])/len(losses), color = colormap(i/len(idxs)),\n",
    "                height=.1, #label = labels[i]\n",
    "                )\n",
    "    ax0.set_title(\"Loss per Batch\")\n",
    "    ax1.set_title(\"Share of Label Configs\")\n",
    "#   ax1.legend()\n",
    "#     ax1.set_yticks([losses[idx][0] for idx in idxs])\n",
    "#     ax1.set_yticklabels ( labels)\n",
    "#     ax1.yaxis.tick_right()  \n",
    "    handles = [patches.Patch(color=colormap(i/len(idxs)), label= labels[i]) for i in range(len(confs))]\n",
    "    \n",
    "    #flip arrangement of handles:\n",
    "    handles = flip_handles(handles)\n",
    "    \n",
    "    legend= fig.legend(handles = handles,\n",
    "            ncol=int(len(labels)/2), loc=\"lower center\",\n",
    "              bbox_to_anchor=(0.04,0.08,0.93,0), mode = \"expand\",borderaxespad=0.)\n",
    "    fig.tight_layout()\n",
    "\n",
    "    return fig, legend\n",
    "\n",
    "confs = [\n",
    "        [[9,0,0],[0,9,0],[0,0,9]],\n",
    "        [[8,1,0],[8,0,1],[0,1,8],[0,8,1],[1,8,0],[1,0,8]],\n",
    "        [[7,2,0],[7,0,2],[0,7,2],[0,2,7],[2,7,0],[2,0,7]],        \n",
    "        [[6,3,0],[6,0,3],[3,6,0],[0,6,3],[3,0,6],[0,3,6]],\n",
    "        [[5,4,0],[5,0,4],[0,5,4],[4,5,0],[0,4,5],[4,0,5]],\n",
    "        [[7,1,1],[1,7,1],[1,1,7]],\n",
    "        [[6,2,1],[6,1,2],[2,6,1],[1,6,2],[2,1,6],[1,2,6]],        \n",
    "        [[5,2,2],[2,5,2],[2,2,5]],\n",
    "        [[5,3,1],[5,1,3],[1,5,3],[3,5,1],[1,3,5],[3,1,5]],        \n",
    "        [[4,4,1],[4,1,4],[1,4,4]],\n",
    "        [[4,3,2],[4,2,3],[3,4,2],[2,4,3],[2,3,4],[3,2,4]],\n",
    "        [[3,3,3]]       \n",
    "    ]\n",
    "\n",
    "def index_by_confs(label_confs):\n",
    "    idxs = [[] for i in range(len(confs))]\n",
    "    for i in range(len(label_confs)):\n",
    "        for j in range(len(confs)):\n",
    "            if list(label_confs[i]) in confs[j]:\n",
    "                idxs[j].append(i)\n",
    "                break\n",
    "    return(idxs)\n",
    "\n",
    "def flip_handles(handles):\n",
    "    n_handles = list(range(len(handles)))\n",
    "    for i in range(len(handles)):\n",
    "        if i % 2 == 0:\n",
    "            n_handles[i] = handles[int(i/2)]\n",
    "        else:\n",
    "            n_handles[i] = handles[int((i-1)/2+len(handles)/2)]\n",
    "    return n_handles"
   ]
  },
  {
   "cell_type": "code",
   "execution_count": 22,
   "metadata": {},
   "outputs": [],
   "source": [
    "n_classes = 3 # number of classes \n",
    "n_samples = 3 # 4 samples per class\n",
    "data = SphereDataset(n_classes,n_samples*n_classes,1)\n",
    "data.labels = np.asarray([i for i in range(n_classes)]*n_samples)\n",
    "\n",
    "bs = 9\n",
    "lr = 0.01"
   ]
  },
  {
   "cell_type": "code",
   "execution_count": 23,
   "metadata": {},
   "outputs": [
    {
     "name": "stdout",
     "output_type": "stream",
     "text": [
      "0 / 24310\n",
      "2431 / 24310\n",
      "4862 / 24310\n",
      "7293 / 24310\n",
      "9724 / 24310\n",
      "12155 / 24310\n",
      "14586 / 24310\n",
      "17017 / 24310\n",
      "19448 / 24310\n",
      "21879 / 24310\n"
     ]
    }
   ],
   "source": [
    "#train\n",
    "train_losses = train(data,bs,0.01)"
   ]
  },
  {
   "cell_type": "code",
   "execution_count": 24,
   "metadata": {},
   "outputs": [
    {
     "name": "stdout",
     "output_type": "stream",
     "text": [
      "0 / 24310\n",
      "2431 / 24310\n",
      "4862 / 24310\n",
      "7293 / 24310\n",
      "9724 / 24310\n",
      "12155 / 24310\n",
      "14586 / 24310\n",
      "17017 / 24310\n",
      "19448 / 24310\n",
      "21879 / 24310\n"
     ]
    }
   ],
   "source": [
    "# evaluate loss on each batch\n",
    "final_losses, label_confs = evaluate(data,bs)"
   ]
  },
  {
   "cell_type": "markdown",
   "metadata": {},
   "source": [
    "### Figure 5"
   ]
  },
  {
   "cell_type": "code",
   "execution_count": 26,
   "metadata": {},
   "outputs": [
    {
     "data": {
      "image/png": "[encoded data removed]",
      "text/plain": [
       "<Figure size 720x360 with 2 Axes>"
      ]
     },
     "metadata": {
      "needs_background": "light"
     },
     "output_type": "display_data"
    }
   ],
   "source": [
    "fig, legend = plot_bw_losses(final_losses, label_confs, cm.jet)"
   ]
  },
  {
   "cell_type": "code",
   "execution_count": 12,
   "metadata": {},
   "outputs": [],
   "source": [
    "# already initialize data on simplex vertices (and dont train) for comparison\n",
    "simplex = SphereDataset(n_classes,n_samples*n_classes,1)\n",
    "simplex.labels = np.asarray([i for i in range(n_classes)]*n_samples)\n",
    "simplex.points = torch.tensor( [[0,1],[-math.sqrt(1-1/4),-0.5],[math.sqrt(1-1/4),-0.5]]*n_samples , dtype = torch.double)"
   ]
  },
  {
   "cell_type": "code",
   "execution_count": 13,
   "metadata": {},
   "outputs": [
    {
     "name": "stdout",
     "output_type": "stream",
     "text": [
      "0 / 2002\n",
      "200 / 2002\n",
      "400 / 2002\n",
      "600 / 2002\n",
      "800 / 2002\n",
      "1000 / 2002\n",
      "1200 / 2002\n",
      "1400 / 2002\n",
      "1600 / 2002\n",
      "1800 / 2002\n",
      "2000 / 2002\n"
     ]
    }
   ],
   "source": [
    "simplex_losses, simplex_label_confs = evaluate(simplex,bs)    "
   ]
  },
  {
   "cell_type": "code",
   "execution_count": 14,
   "metadata": {},
   "outputs": [
    {
     "data": {
      "image/png": "[encoded data removed]",
      "text/plain": [
       "<Figure size 720x360 with 2 Axes>"
      ]
     },
     "metadata": {
      "needs_background": "light"
     },
     "output_type": "display_data"
    }
   ],
   "source": [
    "fig, legend = plot_bw_losses(simplex_losses, simplex_label_confs, cm.winter)"
   ]
  },
  {
   "cell_type": "markdown",
   "metadata": {},
   "source": [
    "Compare losses for configurations obtained by\n",
    "- Minimizing supervised contrastive loss\n",
    "- fixed at simplex vertices   \n",
    "- theoretically predicted loss minimum"
   ]
  },
  {
   "cell_type": "code",
   "execution_count": 15,
   "metadata": {},
   "outputs": [
    {
     "name": "stdout",
     "output_type": "stream",
     "text": [
      "trained_data: loss = 28796.197628310405\n",
      "simplex_data: loss = 25205.689013301668\n",
      "theory:       loss = 25205.688636803963\n"
     ]
    }
   ],
   "source": [
    "l_test = torch.tensor(final_losses).sum()\n",
    "l_simplex = torch.tensor(simplex_losses).sum()\n",
    "\n",
    "l_theory = 0\n",
    "for l in range(2,bs+1):\n",
    "    M_l = mchoose(n_samples,l) * mchoose(n_samples*(n_classes-1),bs-l) * n_classes\n",
    "    b_l = np.log(l-1 + (bs-l)*np.exp(- torch.ones(1,dtype=torch.double) * n_classes/(n_classes-1)))\n",
    "    l_theory += l*M_l*b_l\n",
    "\n",
    "\n",
    "\n",
    "print(\"trained_data: loss = \" +str(l_test.item()) \n",
    "      + \"\\nsimplex_data: loss = \" +str(l_simplex.item())\n",
    "      + \"\\ntheory:       loss = \" +str(l_theory.item())\n",
    "     )"
   ]
  },
  {
   "cell_type": "markdown",
   "metadata": {},
   "source": [
    "# Batchwise loss minimizers for different label configuratiuons"
   ]
  },
  {
   "cell_type": "code",
   "execution_count": 16,
   "metadata": {},
   "outputs": [],
   "source": [
    "def train_batch(data, lr, epochs):\n",
    "    losses = []\n",
    "    criterion = SupConLoss(1)\n",
    "    \n",
    "    dl_train = torch.utils.data.DataLoader(data, batch_size = len(data))\n",
    "    \n",
    "    for epoch in range(epochs):\n",
    "        for j, (batch_x, batch_y) in enumerate(dl_train):   \n",
    "            batch_x = batch_x.to(DEVICE) \n",
    "            batch_y = batch_y.to(DEVICE)   \n",
    "\n",
    "            loss = criterion(batch_x, batch_y)        \n",
    "            loss.backward() \n",
    "            losses.append(loss)\n",
    "\n",
    "            # SGD step\n",
    "            data.points = data.points - lr * data.points.grad\n",
    "\n",
    "            # project on sphere again        \n",
    "            with torch.no_grad():\n",
    "                data.points = data.points/torch.norm(data.points,dim=1, p=2, keepdim=True, dtype= torch.double)\n",
    "                data.points.requires_grad = True\n",
    "    return losses"
   ]
  },
  {
   "cell_type": "code",
   "execution_count": 17,
   "metadata": {},
   "outputs": [],
   "source": [
    "def labels_from_conf(conf):\n",
    "    '''Transform label conf = tuple of label multiplicities \n",
    "    to the corresponding labelvector\n",
    "    e.g. [2,3,4] -> [0,0,1,1,1,2,2,2,2]\n",
    "    '''\n",
    "    labels = list(range(np.asarray(conf).sum()))\n",
    "    count = 0\n",
    "    for j in range(len(conf)):\n",
    "        mult = conf[j]\n",
    "        for i in range(mult):\n",
    "            labels[count+i] = j\n",
    "        count += mult\n",
    "    return labels"
   ]
  },
  {
   "cell_type": "code",
   "execution_count": 18,
   "metadata": {},
   "outputs": [],
   "source": [
    "# all possble label confs for batchsize 9 and 3 classes\n",
    "confs = [\n",
    "        [[9,0,0],[0,9,0],[0,0,9]],\n",
    "        [[8,1,0],[8,0,1],[0,1,8],[0,8,1],[1,8,0],[1,0,8]],\n",
    "        [[7,2,0],[7,0,2],[0,7,2],[0,2,7],[2,7,0],[2,0,7]],        \n",
    "        [[6,3,0],[6,0,3],[3,6,0],[0,6,3],[3,0,6],[0,3,6]],\n",
    "        [[5,4,0],[5,0,4],[0,5,4],[4,5,0],[0,4,5],[4,0,5]],\n",
    "        [[7,1,1],[1,7,1],[1,1,7]],\n",
    "        [[6,2,1],[6,1,2],[2,6,1],[1,6,2],[2,1,6],[1,2,6]],        \n",
    "        [[5,2,2],[2,5,2],[2,2,5]],\n",
    "        [[5,3,1],[5,1,3],[1,5,3],[3,5,1],[1,3,5],[3,1,5]],        \n",
    "        [[4,4,1],[4,1,4],[1,4,4]],\n",
    "        [[4,3,2],[4,2,3],[3,4,2],[2,4,3],[2,3,4],[3,2,4]],\n",
    "        [[3,3,3]]       \n",
    "    ]"
   ]
  },
  {
   "cell_type": "code",
   "execution_count": 19,
   "metadata": {},
   "outputs": [
    {
     "name": "stdout",
     "output_type": "stream",
     "text": [
      "[9, 0, 0]\n",
      "[8, 1, 0]\n",
      "[7, 2, 0]\n",
      "[6, 3, 0]\n",
      "[5, 4, 0]\n",
      "[7, 1, 1]\n",
      "[6, 2, 1]\n",
      "[5, 2, 2]\n",
      "[5, 3, 1]\n",
      "[4, 4, 1]\n",
      "[4, 3, 2]\n",
      "[3, 3, 3]\n"
     ]
    }
   ],
   "source": [
    "# Minimize the batchwise loss for each label configuration\n",
    "minima = []\n",
    "ps = []\n",
    "data0 = SphereDataset(2,9,1)\n",
    "n_iterations = 2000\n",
    "for conf in confs:\n",
    "    print(conf[0])\n",
    "    data = data0.copy()\n",
    "    data.labels = np.asarray(labels_from_conf(conf[0]))\n",
    "    minima.append(train_batch(data,.1,n_iterations))\n",
    "    ps.append(data.points.detach().numpy())"
   ]
  },
  {
   "cell_type": "code",
   "execution_count": 20,
   "metadata": {},
   "outputs": [],
   "source": [
    "def rotate(p,phi):\n",
    "    '''rotate points p by angle phi (used for plotting)'''\n",
    "    p_0 = np.asarray(p.tolist())\n",
    "    p_0[:,0] = np.cos(phi)*p[:,0] - np.sin(phi)*p[:,1]\n",
    "    p_0[:,1] = np.sin(phi)*p[:,0] + np.cos(phi)*p[:,1]\n",
    "\n",
    "    return p_0"
   ]
  },
  {
   "cell_type": "markdown",
   "metadata": {},
   "source": [
    "### Figure 6"
   ]
  },
  {
   "cell_type": "code",
   "execution_count": 21,
   "metadata": {},
   "outputs": [
    {
     "data": {
      "image/png": "[encoded data removed]",
      "text/plain": [
       "<Figure size 720x144 with 12 Axes>"
      ]
     },
     "metadata": {
      "needs_background": "light"
     },
     "output_type": "display_data"
    }
   ],
   "source": [
    "fig, ax = plt.subplots(1,len(confs), figsize = (10,2))\n",
    "for n in range(len(confs)):\n",
    "    circ = plt.Circle((0, 0), radius=1, color='k', fill=False, )\n",
    "    p = ps[n]\n",
    "    p = rotate(p,-np.arctan(p[0][1]/p[0][0])+np.pi/2) #some p might need to be roated by - pi/2 instead of + pi/2 (see plot)\n",
    "    ax[n].scatter(p[:,0], p[:,1], c = labels_from_conf(confs[n][0]), s=25)\n",
    "    ax[n].set_aspect(\"equal\")    \n",
    "    ax[n].add_patch(circ)\n",
    "    ax[n].set_xlim([-1.1,1.1])\n",
    "    ax[n].set_ylim([-1.1,1.1])\n",
    "    ax[n].set_axis_off()\n",
    "    ax[n].set_title(str(confs[n][0]), y = -0.7)\n",
    "    #ax[n].text(-1, -1.5, str(confs[n][0]) )\n",
    "fig.tight_layout()"
   ]
  },
  {
   "cell_type": "code",
   "execution_count": null,
   "metadata": {},
   "outputs": [],
   "source": []
  }
 ],
 "metadata": {
  "kernelspec": {
   "display_name": "Python 3 (ipykernel)",
   "language": "python",
   "name": "python3"
  },
  "language_info": {
   "codemirror_mode": {
    "name": "ipython",
    "version": 3
   },
   "file_extension": ".py",
   "mimetype": "text/x-python",
   "name": "python",
   "nbconvert_exporter": "python",
   "pygments_lexer": "ipython3",
   "version": "3.9.7"
  },
  "vscode": {
   "interpreter": {
    "hash": "9d306153cd2e45093d902fbd810a8a939ddf5d11882600bc5240d86b87df1443"
   }
  }
 },
 "nbformat": 4,
 "nbformat_minor": 2
}
