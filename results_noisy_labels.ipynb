{
 "cells": [
  {
   "cell_type": "code",
   "execution_count": null,
   "metadata": {},
   "outputs": [],
   "source": [
    "%load_ext autoreload\n",
    "%autoreload 2\n",
    "\n",
    "\n",
    "import os\n",
    "import sys\n",
    "import glob\n",
    "import torch\n",
    "import json\n",
    "import pandas as pd\n",
    "import time\n",
    "import qgrid\n",
    "import torch\n",
    "import collections\n",
    "import functools\n",
    "\n",
    "\n",
    "from pathlib import Path\n",
    "\n",
    "import matplotlib.pyplot as plt\n",
    "from matplotlib.ticker import FormatStrFormatter\n",
    "\n",
    "%matplotlib inline\n",
    "\n",
    "import nb_common"
   ]
  },
  {
   "cell_type": "code",
   "execution_count": null,
   "metadata": {},
   "outputs": [],
   "source": [
    "root = Path('./results_noisy_label/')"
   ]
  },
  {
   "cell_type": "code",
   "execution_count": null,
   "metadata": {},
   "outputs": [],
   "source": [
    "args_white_list = {\n",
    "    'num_batches',\n",
    "    'batch_size',\n",
    "    'tag', \n",
    "    'weight_decay',\n",
    "    'ds_train',\n",
    "    'ds_test' ,\n",
    "    'augment',\n",
    "    'label_noise_fraction',\n",
    "    'scheduler'\n",
    "}\n",
    "\n",
    "args_simple = {\n",
    "    'model_comp': lambda a: a['model'][1]['compactification_cfg'][0], \n",
    "    'model_lin': lambda a: a['model'][1]['linear_cfg'][0], \n",
    "    'loss': lambda a: a['losses'][0][0],\n",
    "}\n",
    "\n",
    "args_df_from_results = functools.partial(nb_common.args_df_from_results, args_white_list=args_white_list, args_simple=args_simple)\n",
    "\n",
    "load_results = functools.partial(nb_common.load_results, root=root)\n",
    "\n",
    "progress_from_results=functools.partial(nb_common.progress_from_results, root=root)\n",
    "\n",
    "df_from_results = functools.partial(nb_common.df_from_results, root, args_white_list, args_simple)  \n"
   ]
  },
  {
   "cell_type": "code",
   "execution_count": null,
   "metadata": {},
   "outputs": [],
   "source": [
    "progress_from_results()"
   ]
  },
  {
   "cell_type": "code",
   "execution_count": null,
   "metadata": {},
   "outputs": [],
   "source": [
    "qgrid_widget = qgrid.show_grid(df_from_results(), show_toolbar=True)\n",
    "qgrid_widget"
   ]
  },
  {
   "cell_type": "code",
   "execution_count": null,
   "metadata": {},
   "outputs": [],
   "source": [
    "' '.join([str(r.path.name) for r in load_results() if r.experiment_args['model'][1]['linear_cfg'][0] == \"FixedSphericalSimplexLinear\"])"
   ]
  },
  {
   "cell_type": "code",
   "execution_count": null,
   "metadata": {},
   "outputs": [],
   "source": [
    "df_from_results()"
   ]
  },
  {
   "cell_type": "code",
   "execution_count": null,
   "metadata": {},
   "outputs": [],
   "source": []
  }
 ],
 "metadata": {
  "kernelspec": {
   "display_name": "torch",
   "language": "python",
   "name": "python3"
  },
  "language_info": {
   "codemirror_mode": {
    "name": "ipython",
    "version": 3
   },
   "file_extension": ".py",
   "mimetype": "text/x-python",
   "name": "python",
   "nbconvert_exporter": "python",
   "pygments_lexer": "ipython3",
   "version": "3.9.7"
  },
  "vscode": {
   "interpreter": {
    "hash": "935ab1d42bbe4a20c05bfa076516555adf973dc6fa003695ac895fa7c81b264d"
   }
  }
 },
 "nbformat": 4,
 "nbformat_minor": 2
}
